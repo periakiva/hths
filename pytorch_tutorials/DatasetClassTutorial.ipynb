{
  "nbformat": 4,
  "nbformat_minor": 0,
  "metadata": {
    "colab": {
      "name": "DatasetClassTutorial.ipynb",
      "provenance": [],
      "collapsed_sections": []
    },
    "kernelspec": {
      "name": "python3",
      "display_name": "Python 3"
    }
  },
  "cells": [
    {
      "cell_type": "markdown",
      "metadata": {
        "id": "UXXTQlhcR6UC"
      },
      "source": [
        "HI! This is an example dataset class that demonstrates the necessary functions you need to overwrite/implement. You won't actually be able to run this code because I'm going to put in a lot of disparate examples for the processing steps in case you ever have to work with different types of data. \n",
        "\n",
        "This is all still really rough, so if you have any questions please ask!"
      ]
    },
    {
      "cell_type": "code",
      "metadata": {
        "id": "weO1XdBwLVMX"
      },
      "source": [
        "import torch\n",
        "import torchvision\n",
        "from torch.utils.data import Dataset\n",
        "import pandas as pd\n",
        "\n",
        "\n",
        "class ExampleData(Dataset):\n",
        "    def __init__(self,file_name,mode=None):\n",
        "        \n",
        "        # This is an example of how to read in a csv (excel) file using the Pandas library\n",
        "        ''' Get the data from the csv into a pandas dataframe '''\n",
        "        data=pd.read_csv(file_name, header=0)\n",
        "        \n",
        "        # The next thing you'll wanna do is figure out how you're going to determine the train/test split amongst your data\n",
        "        # they might be saved in different file locations so that simply calling this class with a different file_name will suffice\n",
        "        # but if it's all in one file you'll need to separate it yourself\n",
        "        # the code below makes a 80/20 split between train and test\n",
        "\n",
        "        ''' Seperate the data into test and train '''\n",
        "        if mode=='test':\n",
        "            self.X=data.x[:int(.8*len(self.X))]\n",
        "            self.Y=data.y[:int(.8*len(self.X))]\n",
        "        if mode=='train':\n",
        "            self.X=data.x[int(.8*len(self.X)):]\n",
        "            self.Y=data.y[int(.8*len(self.X)):]\n",
        "\n",
        "        # this will do some processing on the data you can either put that code here (if you have a small amount of data)\n",
        "        # or you can implement your processing code in __getitem__ which is better if you have a lot of data\n",
        "        self.X, self.Y = processData(self.X,self.Y)\n",
        "\n",
        "    def __len__(self):\n",
        "        # this function returns the length of your data\n",
        "        return len(self.X)\n",
        "\n",
        "    def __getitem__(self, i):\n",
        "        # this function returns the ith [data, label] instance as tensors\n",
        "        # the data you want to pass through your network is stored in self.X\n",
        "        # the labels are stored in self.Y\n",
        "        # the .view(#,#,#) changes the shape of the data and is optional to include in the following line \n",
        "        return torch.tensor(self.X[i]).view(1,len(self.X[i])), torch.tensor(self.Y[i]).view(1,len(self.Y[i]))\n",
        "\n",
        "\n",
        "    def processData(self, dataX, dataY):\n",
        "        # you do not need to implement this function in your class in order for it to work\n",
        "        # I'm just putting the different data processing techniques here to keep the above functions cleaner\n",
        "\n",
        "        # if you're working with just arrays of numerical data it's easiest to store it in a pandas dataframe \n",
        "        # and manipulate it in there OR you can use numpy just make sure you put it into a tensor \n",
        "        # HERE's a really in depth tutorial on how to use the package https://www.learndatasci.com/tutorials/python-pandas-tutorial-complete-introduction-for-beginners/\n",
        "\n",
        "\n",
        "        # if you're using image data you can read in an image \n",
        "        image=cv2.imread(dataX.path)\n",
        "        # if you wanna alter the images you can use some of the cv2 image transformation commands \n",
        "        # https://opencv-python-tutroals.readthedocs.io/en/latest/py_tutorials/py_imgproc/py_geometric_transformations/py_geometric_transformations.html\n",
        "        \n",
        "        # or some of the transforms in the torchvision package (https://pytorch.org/docs/stable/torchvision/transforms.html) \n",
        "        # as long as you cast the image as a tensor first (or it might need to be a PIL image?)\n",
        "        image=torch.tensor(image)\n",
        "\n"
      ],
      "execution_count": null,
      "outputs": []
    }
  ]
}